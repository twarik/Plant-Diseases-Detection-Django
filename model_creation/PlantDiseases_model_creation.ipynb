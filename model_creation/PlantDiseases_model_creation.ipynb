{
 "cells": [
  {
   "cell_type": "markdown",
   "metadata": {
    "colab_type": "text",
    "id": "RSqgWOjwOsLy"
   },
   "source": [
    "# Training a PyTorch deep learning model that detects and classifies plant diseases\n",
    "We use the [plant village](https://www.plantvillage.org. ) dataset for training our network. The dataset is open sourced and available [here](https://github.com/spMohanty/PlantVillage-Datasethttps://github.com/spMohanty/PlantVillage-Dataset).\n",
    "\n",
    "We run our notebook in Google colaboratory."
   ]
  },
  {
   "cell_type": "code",
   "execution_count": null,
   "metadata": {
    "colab": {
     "base_uri": "https://localhost:8080/",
     "height": 122
    },
    "colab_type": "code",
    "id": "l8MmVTv3Ozm1",
    "outputId": "800cd245-357f-4dce-bd71-92a362ef480e"
   },
   "outputs": [
    {
     "name": "stdout",
     "output_type": "stream",
     "text": [
      "Go to this URL in a browser: https://accounts.google.com/o/oauth2/auth?client_id=947318989803-6bn6qk8qdgf4n4g3pfee6491hc0brc4i.apps.googleusercontent.com&redirect_uri=urn%3aietf%3awg%3aoauth%3a2.0%3aoob&response_type=code&scope=email%20https%3a%2f%2fwww.googleapis.com%2fauth%2fdocs.test%20https%3a%2f%2fwww.googleapis.com%2fauth%2fdrive%20https%3a%2f%2fwww.googleapis.com%2fauth%2fdrive.photos.readonly%20https%3a%2f%2fwww.googleapis.com%2fauth%2fpeopleapi.readonly\n",
      "\n",
      "Enter your authorization code:\n",
      "··········\n",
      "Mounted at /content/drive\n"
     ]
    }
   ],
   "source": [
    "from google.colab import drive\n",
    "drive.mount('/content/drive')"
   ]
  },
  {
   "cell_type": "code",
   "execution_count": null,
   "metadata": {
    "colab": {
     "base_uri": "https://localhost:8080/",
     "height": 204
    },
    "colab_type": "code",
    "id": "m4OIuPCWP1v2",
    "outputId": "ccef7165-c82f-47b9-cd7b-d8acaf15de74"
   },
   "outputs": [
    {
     "name": "stdout",
     "output_type": "stream",
     "text": [
      "Collecting skorch\n",
      "\u001b[?25l  Downloading https://files.pythonhosted.org/packages/42/21/4936b881b33de285faa0b36209afe4f9724a0875b2225abdc63b23d384a3/skorch-0.8.0-py3-none-any.whl (113kB)\n",
      "\r",
      "\u001b[K     |██▉                             | 10kB 24.7MB/s eta 0:00:01\r",
      "\u001b[K     |█████▊                          | 20kB 20.5MB/s eta 0:00:01\r",
      "\u001b[K     |████████▋                       | 30kB 24.8MB/s eta 0:00:01\r",
      "\u001b[K     |███████████▌                    | 40kB 23.6MB/s eta 0:00:01\r",
      "\u001b[K     |██████████████▍                 | 51kB 15.2MB/s eta 0:00:01\r",
      "\u001b[K     |█████████████████▎              | 61kB 13.6MB/s eta 0:00:01\r",
      "\u001b[K     |████████████████████▏           | 71kB 13.5MB/s eta 0:00:01\r",
      "\u001b[K     |███████████████████████         | 81kB 14.6MB/s eta 0:00:01\r",
      "\u001b[K     |██████████████████████████      | 92kB 13.8MB/s eta 0:00:01\r",
      "\u001b[K     |████████████████████████████▉   | 102kB 13.0MB/s eta 0:00:01\r",
      "\u001b[K     |███████████████████████████████▊| 112kB 13.0MB/s eta 0:00:01\r",
      "\u001b[K     |████████████████████████████████| 122kB 13.0MB/s \n",
      "\u001b[?25hRequirement already satisfied: scipy>=1.1.0 in /usr/local/lib/python3.6/dist-packages (from skorch) (1.4.1)\n",
      "Requirement already satisfied: numpy>=1.13.3 in /usr/local/lib/python3.6/dist-packages (from skorch) (1.18.5)\n",
      "Requirement already satisfied: tqdm>=4.14.0 in /usr/local/lib/python3.6/dist-packages (from skorch) (4.41.1)\n",
      "Requirement already satisfied: tabulate>=0.7.7 in /usr/local/lib/python3.6/dist-packages (from skorch) (0.8.7)\n",
      "Requirement already satisfied: scikit-learn>=0.19.1 in /usr/local/lib/python3.6/dist-packages (from skorch) (0.22.2.post1)\n",
      "Requirement already satisfied: joblib>=0.11 in /usr/local/lib/python3.6/dist-packages (from scikit-learn>=0.19.1->skorch) (0.15.1)\n",
      "Installing collected packages: skorch\n",
      "Successfully installed skorch-0.8.0\n"
     ]
    }
   ],
   "source": [
    "! pip install skorch"
   ]
  },
  {
   "cell_type": "code",
   "execution_count": null,
   "metadata": {
    "colab": {},
    "colab_type": "code",
    "id": "9DOxja7XOsL0"
   },
   "outputs": [],
   "source": [
    "import warnings\n",
    "warnings.filterwarnings('ignore')"
   ]
  },
  {
   "cell_type": "code",
   "execution_count": null,
   "metadata": {
    "colab": {},
    "colab_type": "code",
    "id": "xmE8uJmSOsL6"
   },
   "outputs": [],
   "source": [
    "import os\n",
    "import numpy as np\n",
    "\n",
    "import torch\n",
    "import torch.nn as nn\n",
    "import torch.optim as optim\n",
    "from torch.utils.data import Subset\n",
    "from torchvision import datasets, models, transforms\n",
    "\n",
    "\n",
    "from skorch import NeuralNetClassifier\n",
    "from skorch.helper import predefined_split\n",
    "\n",
    "torch.manual_seed(10);"
   ]
  },
  {
   "cell_type": "code",
   "execution_count": null,
   "metadata": {
    "colab": {
     "base_uri": "https://localhost:8080/",
     "height": 35
    },
    "colab_type": "code",
    "id": "t0T9miY9uQ_A",
    "outputId": "05fb6df9-078d-4729-87ed-ec23e2432bf0"
   },
   "outputs": [
    {
     "data": {
      "application/vnd.google.colaboratory.intrinsic": {
       "type": "string"
      },
      "text/plain": [
       "'1.5.1+cu101'"
      ]
     },
     "execution_count": 5,
     "metadata": {
      "tags": []
     },
     "output_type": "execute_result"
    }
   ],
   "source": [
    "torch.__version__"
   ]
  },
  {
   "cell_type": "markdown",
   "metadata": {
    "colab_type": "text",
    "id": "NmTDNOdeOsMA"
   },
   "source": [
    "## The Problem"
   ]
  },
  {
   "cell_type": "markdown",
   "metadata": {
    "colab_type": "text",
    "id": "fEvwAE3gOsMB"
   },
   "source": [
    "We are going to train a neutral network to classify 14 crop species. The dataset consist of 14 crop species subdivided into 38 classes corresponding to plant disease status."
   ]
  },
  {
   "cell_type": "markdown",
   "metadata": {
    "colab_type": "text",
    "id": "fEvwAE3gOsMB"
   },
   "source": [
    "**Please make sure that you have a GPU**"
   ]
  },
  {
   "cell_type": "code",
   "execution_count": null,
   "metadata": {
    "colab": {
     "base_uri": "https://localhost:8080/",
     "height": 35
    },
    "colab_type": "code",
    "id": "PCi_U25nP_W8",
    "outputId": "e62621fe-6f7a-427b-bf3a-81c02ba13fc0"
   },
   "outputs": [
    {
     "data": {
      "application/vnd.google.colaboratory.intrinsic": {
       "type": "string"
      },
      "text/plain": [
       "'cuda'"
      ]
     },
     "execution_count": 6,
     "metadata": {
      "tags": []
     },
     "output_type": "execute_result"
    }
   ],
   "source": [
    "device = 'cuda' if torch.cuda.is_available() else 'cpu'\n",
    "device"
   ]
  },
  {
   "cell_type": "markdown",
   "metadata": {
    "colab_type": "text",
    "id": "QCuErMk_OsMB"
   },
   "source": [
    "Clone the [Github repository](https://github.com/spMohanty/PlantVillage-Datasethttps://github.com/spMohanty/PlantVillage-Dataset) to obtain the plant village dataset\n",
    "\n",
    "Then **Split the dataset(color) into 80% training set and 20% validation set**"
   ]
  },
  {
   "cell_type": "code",
   "execution_count": null,
   "metadata": {
    "colab": {
     "base_uri": "https://localhost:8080/",
     "height": 68
    },
    "colab_type": "code",
    "id": "Nga-BkgEOsMC",
    "outputId": "1c4a98b7-5ab5-48b0-dbb8-a6c38a262acd"
   },
   "outputs": [
    {
     "name": "stdout",
     "output_type": "stream",
     "text": [
      "/content/drive/My Drive/Datasets/PlantVillage-Dataset/raw\n",
      "train_leng: 16251\n",
      "valid_leng: 4062\n"
     ]
    }
   ],
   "source": [
    "%cd '/content/drive/My Drive/Datasets/PlantVillage-Dataset/raw'\n",
    "data_dir = './'\n",
    "# data processing pipeline\n",
    "data_transforms = transforms.Compose([transforms.Resize((224,224)), \n",
    "                                      transforms.ToTensor(),\n",
    "                                      transforms.Normalize(mean=[0.485, 0.456, 0.406],\n",
    "                                                           std=[0.229, 0.224, 0.225])\n",
    "                                     ])\n",
    "\n",
    "\n",
    "orig_set = datasets.ImageFolder(os.path.join(data_dir, 'color'), data_transforms)  # my dataset\n",
    "\n",
    "validation_split = .2\n",
    "shuffle_dataset = True\n",
    "random_seed= 42\n",
    "\n",
    "# Creating data indices for training and validation splits:  \n",
    "dataset_size = len(orig_set)\n",
    "indices = list(range(dataset_size))\n",
    "split = int(np.floor(validation_split * dataset_size))\n",
    "if shuffle_dataset :\n",
    "    np.random.seed(random_seed)\n",
    "    np.random.shuffle(indices)\n",
    "train_indices, val_indices = indices[split:], indices[:split]\n",
    "\n",
    "# split the dataset into train and test:\n",
    "train_ds = Subset(orig_set, train_indices)\n",
    "valid_ds= Subset(orig_set, val_indices)\n",
    "\n",
    "print(\"train_leng:\",len(train_ds))\n",
    "print(\"valid_leng:\",len(valid_ds))"
   ]
  },
  {
   "cell_type": "code",
   "execution_count": null,
   "metadata": {},
   "outputs": [],
   "source": [
    "orig_set.idx_to_class = {v: k for k, v in orig_set.class_to_idx.items()}\n",
    "labels = orig_set.idx_to_class\n",
    "n_classes = len(labels)"
   ]
  },
  {
   "cell_type": "markdown",
   "metadata": {
    "colab_type": "text",
    "id": "2jrOBcI1OsMN"
   },
   "source": [
    "## Loading a pretrained neural network model"
   ]
  },
  {
   "cell_type": "markdown",
   "metadata": {
    "colab_type": "text",
    "id": "P9m1uR7KOsMP"
   },
   "source": [
    "I use a pretrained `ResNet50` neutral network model with its final layer (classifier) replaced with a new one to help in identifying plant diseases."
   ]
  },
  {
   "cell_type": "code",
   "execution_count": null,
   "metadata": {
    "colab": {},
    "colab_type": "code",
    "id": "uTgpM_6AOsMQ"
   },
   "outputs": [],
   "source": [
    "class PretrainedModel(nn.Module):\n",
    "    def __init__(self, output_features):\n",
    "        super().__init__()\n",
    "        model = models.resnet50(pretrained=True)\n",
    "        num_ftrs = model.fc.in_features\n",
    "        model.fc = nn.Linear(num_ftrs, output_features)\n",
    "        self.model = model\n",
    "        \n",
    "    def forward(self, x):\n",
    "        return self.model(x)"
   ]
  },
  {
   "cell_type": "markdown",
   "metadata": {
    "colab_type": "text",
    "id": "d2XY4Vo_cQZp"
   },
   "source": [
    "**Hyperparameters**"
   ]
  },
  {
   "cell_type": "code",
   "execution_count": null,
   "metadata": {
    "colab": {},
    "colab_type": "code",
    "id": "KrORUUChcOmU"
   },
   "outputs": [],
   "source": [
    "n_epochs = 25\n",
    "optimizer = optim.SGD\n",
    "l_rate = 0.001\n",
    "bs = 4"
   ]
  },
  {
   "cell_type": "markdown",
   "metadata": {
    "colab_type": "text",
    "id": "1cAIHGmlcWn5"
   },
   "source": [
    "**Define some callbacks**"
   ]
  },
  {
   "cell_type": "markdown",
   "metadata": {
    "colab_type": "text",
    "id": "5WHzvNuWOsMX"
   },
   "source": [
    "First, we create a `LRScheduler` callback which is a learning rate scheduler that uses `torch.optim.lr_scheduler.StepLR` to scale learning rates by `gamma=0.1` every 7 steps:"
   ]
  },
  {
   "cell_type": "code",
   "execution_count": null,
   "metadata": {
    "colab": {},
    "colab_type": "code",
    "id": "sbShVqLgOsMY"
   },
   "outputs": [],
   "source": [
    "from skorch.callbacks import LRScheduler\n",
    "\n",
    "lrscheduler = LRScheduler(\n",
    "    policy='StepLR', step_size=7, gamma=0.1)"
   ]
  },
  {
   "cell_type": "markdown",
   "metadata": {
    "colab_type": "text",
    "id": "ofIqbxrVOsMf"
   },
   "source": [
    "Next, we create a `Checkpoint` callback which saves the best model by by monitoring the validation accuracy. "
   ]
  },
  {
   "cell_type": "code",
   "execution_count": null,
   "metadata": {
    "colab": {},
    "colab_type": "code",
    "id": "Tz7w3DjhOsMg"
   },
   "outputs": [],
   "source": [
    "from skorch.callbacks import Checkpoint\n",
    "\n",
    "checkpoint = Checkpoint(monitor='valid_acc_best', \n",
    "                        f_params='model_params.pt', \n",
    "                        f_optimizer='model_optimizer.pt', \n",
    "                        f_history='model_history.json')"
   ]
  },
  {
   "cell_type": "markdown",
   "metadata": {
    "colab_type": "text",
    "id": "P2DHRJTdOsMl"
   },
   "source": [
    "Lastly, we create a `Freezer` used to fine-tune the model by freezing all weights besides the final layer named `model.fc`:"
   ]
  },
  {
   "cell_type": "code",
   "execution_count": null,
   "metadata": {
    "colab": {},
    "colab_type": "code",
    "id": "AXD24jDhOsMm"
   },
   "outputs": [],
   "source": [
    "from skorch.callbacks import Freezer\n",
    "\n",
    "freezer = Freezer(lambda x: not x.startswith('model.fc'))"
   ]
  },
  {
   "cell_type": "code",
   "execution_count": null,
   "metadata": {
    "colab": {},
    "colab_type": "code",
    "id": "haiHGEtJOsMq"
   },
   "outputs": [],
   "source": [
    "net = NeuralNetClassifier(\n",
    "    PretrainedModel, \n",
    "    criterion=nn.CrossEntropyLoss,\n",
    "    lr=l_rate,\n",
    "    batch_size=bs,\n",
    "    max_epochs=n_epochs,\n",
    "    module__output_features=n_classes,\n",
    "    optimizer=optimizer,\n",
    "    optimizer__momentum=0.9,\n",
    "    iterator_train__shuffle=True,\n",
    "    iterator_train__num_workers=4,\n",
    "    iterator_valid__shuffle=False,\n",
    "    iterator_valid__num_workers=4,\n",
    "    train_split=predefined_split(valid_ds),\n",
    "    callbacks=[lrscheduler, checkpoint, freezer],\n",
    "    device=device # comment to train on cpu\n",
    ")"
   ]
  },
  {
   "cell_type": "code",
   "execution_count": null,
   "metadata": {
    "colab": {
     "base_uri": "https://localhost:8080/",
     "height": 542,
     "referenced_widgets": [
      "7dc3c50ef2f2469c8d09febc50ba80f7",
      "4746fc3ced1e488ab541494473dadbda",
      "ec3166be033041f6a69d55777ce63307",
      "265a328aab574e8a8c42a7729c1d7358",
      "7114a8302c3245d7a8fc0f012027a9cb",
      "05b4327c87034f2fbaf2f9367dd60299",
      "fa639fcdd144495e86cfb44ae4bb0cb5",
      "20dfabfcd6aa40da8cd95a24683a822b"
     ]
    },
    "colab_type": "code",
    "id": "iRsh6Ps_OsMu",
    "outputId": "ded26e53-74dc-405c-cf44-8f76c3d7741d"
   },
   "outputs": [
    {
     "name": "stderr",
     "output_type": "stream",
     "text": [
      "Downloading: \"https://download.pytorch.org/models/resnet50-19c8e357.pth\" to /root/.cache/torch/checkpoints/resnet50-19c8e357.pth\n"
     ]
    },
    {
     "data": {
      "application/vnd.jupyter.widget-view+json": {
       "model_id": "7dc3c50ef2f2469c8d09febc50ba80f7",
       "version_major": 2,
       "version_minor": 0
      },
      "text/plain": [
       "HBox(children=(FloatProgress(value=0.0, max=102502400.0), HTML(value='')))"
      ]
     },
     "metadata": {
      "tags": []
     },
     "output_type": "display_data"
    },
    {
     "name": "stdout",
     "output_type": "stream",
     "text": [
      "\n",
      "  epoch    train_loss    valid_acc    valid_loss    cp        dur\n",
      "-------  ------------  -----------  ------------  ----  ---------\n",
      "      1        \u001b[36m0.5922\u001b[0m       \u001b[32m0.9663\u001b[0m        \u001b[35m0.0996\u001b[0m     +  3729.9863\n",
      "      2        \u001b[36m0.3035\u001b[0m       \u001b[32m0.9751\u001b[0m        \u001b[35m0.0727\u001b[0m     +  115.8328\n",
      "      3        \u001b[36m0.2582\u001b[0m       \u001b[32m0.9778\u001b[0m        \u001b[35m0.0629\u001b[0m     +  114.4731\n",
      "      4        \u001b[36m0.2286\u001b[0m       \u001b[32m0.9806\u001b[0m        \u001b[35m0.0607\u001b[0m     +  115.2982\n",
      "      5        \u001b[36m0.2165\u001b[0m       0.9724        0.0825        114.6576\n",
      "      6        \u001b[36m0.2105\u001b[0m       \u001b[32m0.9808\u001b[0m        \u001b[35m0.0560\u001b[0m     +  114.5053\n",
      "      7        \u001b[36m0.1963\u001b[0m       0.9798        0.0664        114.8101\n",
      "      8        \u001b[36m0.1927\u001b[0m       \u001b[32m0.9838\u001b[0m        \u001b[35m0.0464\u001b[0m     +  114.5213\n",
      "      9        \u001b[36m0.1629\u001b[0m       0.9813        0.0514        114.5434\n",
      "     10        \u001b[36m0.1584\u001b[0m       0.9823        0.0491        113.6252\n",
      "     11        \u001b[36m0.1580\u001b[0m       0.9813        0.0510        112.6915\n",
      "     12        \u001b[36m0.1512\u001b[0m       0.9828        0.0510        112.3673\n",
      "     13        0.1613       0.9825        \u001b[35m0.0463\u001b[0m        112.8701\n",
      "     14        0.1553       0.9838        0.0475        112.7932\n",
      "     15        0.1564       0.9820        0.0539        114.2119\n",
      "     16        \u001b[36m0.1490\u001b[0m       0.9813        0.0498        115.0671\n",
      "     17        0.1540       0.9833        0.0489        116.2432\n",
      "     18        0.1509       0.9830        \u001b[35m0.0447\u001b[0m        115.5466\n",
      "     19        0.1559       0.9828        0.0469        115.1350\n",
      "     20        0.1538       0.9813        0.0520        114.3763\n",
      "     21        0.1546       \u001b[32m0.9847\u001b[0m        0.0478     +  115.1690\n",
      "     22        0.1664       0.9823        0.0522        114.3027\n",
      "     23        0.1544       0.9813        0.0501        114.3545\n",
      "     24        0.1565       0.9788        0.0543        114.1878\n",
      "     25        0.1519       0.9823        0.0458        114.8416\n"
     ]
    }
   ],
   "source": [
    "net.fit(train_ds, y=None);"
   ]
  }
 ],
 "metadata": {
  "accelerator": "GPU",
  "colab": {
   "collapsed_sections": [],
   "name": "PlantDiseases-TrainTestSplit.ipynb",
   "provenance": []
  },
  "kernelspec": {
   "display_name": "Python 3",
   "language": "python",
   "name": "python3"
  },
  "language_info": {
   "codemirror_mode": {
    "name": "ipython",
    "version": 3
   },
   "file_extension": ".py",
   "mimetype": "text/x-python",
   "name": "python",
   "nbconvert_exporter": "python",
   "pygments_lexer": "ipython3",
   "version": "3.7.3"
  },
  "widgets": {
   "application/vnd.jupyter.widget-state+json": {
    "05b4327c87034f2fbaf2f9367dd60299": {
     "model_module": "@jupyter-widgets/base",
     "model_name": "LayoutModel",
     "state": {
      "_model_module": "@jupyter-widgets/base",
      "_model_module_version": "1.2.0",
      "_model_name": "LayoutModel",
      "_view_count": null,
      "_view_module": "@jupyter-widgets/base",
      "_view_module_version": "1.2.0",
      "_view_name": "LayoutView",
      "align_content": null,
      "align_items": null,
      "align_self": null,
      "border": null,
      "bottom": null,
      "display": null,
      "flex": null,
      "flex_flow": null,
      "grid_area": null,
      "grid_auto_columns": null,
      "grid_auto_flow": null,
      "grid_auto_rows": null,
      "grid_column": null,
      "grid_gap": null,
      "grid_row": null,
      "grid_template_areas": null,
      "grid_template_columns": null,
      "grid_template_rows": null,
      "height": null,
      "justify_content": null,
      "justify_items": null,
      "left": null,
      "margin": null,
      "max_height": null,
      "max_width": null,
      "min_height": null,
      "min_width": null,
      "object_fit": null,
      "object_position": null,
      "order": null,
      "overflow": null,
      "overflow_x": null,
      "overflow_y": null,
      "padding": null,
      "right": null,
      "top": null,
      "visibility": null,
      "width": null
     }
    },
    "20dfabfcd6aa40da8cd95a24683a822b": {
     "model_module": "@jupyter-widgets/base",
     "model_name": "LayoutModel",
     "state": {
      "_model_module": "@jupyter-widgets/base",
      "_model_module_version": "1.2.0",
      "_model_name": "LayoutModel",
      "_view_count": null,
      "_view_module": "@jupyter-widgets/base",
      "_view_module_version": "1.2.0",
      "_view_name": "LayoutView",
      "align_content": null,
      "align_items": null,
      "align_self": null,
      "border": null,
      "bottom": null,
      "display": null,
      "flex": null,
      "flex_flow": null,
      "grid_area": null,
      "grid_auto_columns": null,
      "grid_auto_flow": null,
      "grid_auto_rows": null,
      "grid_column": null,
      "grid_gap": null,
      "grid_row": null,
      "grid_template_areas": null,
      "grid_template_columns": null,
      "grid_template_rows": null,
      "height": null,
      "justify_content": null,
      "justify_items": null,
      "left": null,
      "margin": null,
      "max_height": null,
      "max_width": null,
      "min_height": null,
      "min_width": null,
      "object_fit": null,
      "object_position": null,
      "order": null,
      "overflow": null,
      "overflow_x": null,
      "overflow_y": null,
      "padding": null,
      "right": null,
      "top": null,
      "visibility": null,
      "width": null
     }
    },
    "265a328aab574e8a8c42a7729c1d7358": {
     "model_module": "@jupyter-widgets/controls",
     "model_name": "HTMLModel",
     "state": {
      "_dom_classes": [],
      "_model_module": "@jupyter-widgets/controls",
      "_model_module_version": "1.5.0",
      "_model_name": "HTMLModel",
      "_view_count": null,
      "_view_module": "@jupyter-widgets/controls",
      "_view_module_version": "1.5.0",
      "_view_name": "HTMLView",
      "description": "",
      "description_tooltip": null,
      "layout": "IPY_MODEL_20dfabfcd6aa40da8cd95a24683a822b",
      "placeholder": "​",
      "style": "IPY_MODEL_fa639fcdd144495e86cfb44ae4bb0cb5",
      "value": " 97.8M/97.8M [00:15&lt;00:00, 6.43MB/s]"
     }
    },
    "4746fc3ced1e488ab541494473dadbda": {
     "model_module": "@jupyter-widgets/base",
     "model_name": "LayoutModel",
     "state": {
      "_model_module": "@jupyter-widgets/base",
      "_model_module_version": "1.2.0",
      "_model_name": "LayoutModel",
      "_view_count": null,
      "_view_module": "@jupyter-widgets/base",
      "_view_module_version": "1.2.0",
      "_view_name": "LayoutView",
      "align_content": null,
      "align_items": null,
      "align_self": null,
      "border": null,
      "bottom": null,
      "display": null,
      "flex": null,
      "flex_flow": null,
      "grid_area": null,
      "grid_auto_columns": null,
      "grid_auto_flow": null,
      "grid_auto_rows": null,
      "grid_column": null,
      "grid_gap": null,
      "grid_row": null,
      "grid_template_areas": null,
      "grid_template_columns": null,
      "grid_template_rows": null,
      "height": null,
      "justify_content": null,
      "justify_items": null,
      "left": null,
      "margin": null,
      "max_height": null,
      "max_width": null,
      "min_height": null,
      "min_width": null,
      "object_fit": null,
      "object_position": null,
      "order": null,
      "overflow": null,
      "overflow_x": null,
      "overflow_y": null,
      "padding": null,
      "right": null,
      "top": null,
      "visibility": null,
      "width": null
     }
    },
    "7114a8302c3245d7a8fc0f012027a9cb": {
     "model_module": "@jupyter-widgets/controls",
     "model_name": "ProgressStyleModel",
     "state": {
      "_model_module": "@jupyter-widgets/controls",
      "_model_module_version": "1.5.0",
      "_model_name": "ProgressStyleModel",
      "_view_count": null,
      "_view_module": "@jupyter-widgets/base",
      "_view_module_version": "1.2.0",
      "_view_name": "StyleView",
      "bar_color": null,
      "description_width": "initial"
     }
    },
    "7dc3c50ef2f2469c8d09febc50ba80f7": {
     "model_module": "@jupyter-widgets/controls",
     "model_name": "HBoxModel",
     "state": {
      "_dom_classes": [],
      "_model_module": "@jupyter-widgets/controls",
      "_model_module_version": "1.5.0",
      "_model_name": "HBoxModel",
      "_view_count": null,
      "_view_module": "@jupyter-widgets/controls",
      "_view_module_version": "1.5.0",
      "_view_name": "HBoxView",
      "box_style": "",
      "children": [
       "IPY_MODEL_ec3166be033041f6a69d55777ce63307",
       "IPY_MODEL_265a328aab574e8a8c42a7729c1d7358"
      ],
      "layout": "IPY_MODEL_4746fc3ced1e488ab541494473dadbda"
     }
    },
    "ec3166be033041f6a69d55777ce63307": {
     "model_module": "@jupyter-widgets/controls",
     "model_name": "FloatProgressModel",
     "state": {
      "_dom_classes": [],
      "_model_module": "@jupyter-widgets/controls",
      "_model_module_version": "1.5.0",
      "_model_name": "FloatProgressModel",
      "_view_count": null,
      "_view_module": "@jupyter-widgets/controls",
      "_view_module_version": "1.5.0",
      "_view_name": "ProgressView",
      "bar_style": "success",
      "description": "100%",
      "description_tooltip": null,
      "layout": "IPY_MODEL_05b4327c87034f2fbaf2f9367dd60299",
      "max": 102502400,
      "min": 0,
      "orientation": "horizontal",
      "style": "IPY_MODEL_7114a8302c3245d7a8fc0f012027a9cb",
      "value": 102502400
     }
    },
    "fa639fcdd144495e86cfb44ae4bb0cb5": {
     "model_module": "@jupyter-widgets/controls",
     "model_name": "DescriptionStyleModel",
     "state": {
      "_model_module": "@jupyter-widgets/controls",
      "_model_module_version": "1.5.0",
      "_model_name": "DescriptionStyleModel",
      "_view_count": null,
      "_view_module": "@jupyter-widgets/base",
      "_view_module_version": "1.2.0",
      "_view_name": "StyleView",
      "description_width": ""
     }
    }
   }
  }
 },
 "nbformat": 4,
 "nbformat_minor": 1
}
